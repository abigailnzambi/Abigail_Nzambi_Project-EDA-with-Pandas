{
  "cells": [
    {
      "cell_type": "markdown",
      "metadata": {
        "id": "VpqgFaIatXji"
      },
      "source": [
        "# Project: EDA with Pandas\n",
        "Abigail Nzambi\n",
        "\n",
        "DVF-PT-05"
      ]
    },
    {
      "cell_type": "markdown",
      "metadata": {
        "id": "mAGiZEWexHJ5"
      },
      "source": [
        "## 1. Business understanding\n",
        "\n",
        "Microsoft, a Technology company, is one of the largest and most influential tech companies in the world. It is based in based in the United States, and It was founded in 1975 by Bill Gates and Paul Allen. The core areas in which it operates in are; Software, Cloud Computing, Hardware, Business & Enterprise Solutions and Artificial Intelligence & Research."
      ]
    },
    {
      "cell_type": "markdown",
      "metadata": {
        "id": "lEiGLxkbKoFa"
      },
      "source": [
        "## 2. Problem statement\n",
        "Microsoft wants to enter the film industry by launching a new movie studio.  To succeed in this highly competitive market, they need to understand which factors lead to the success of a company in the movie industry.."
      ]
    },
    {
      "cell_type": "markdown",
      "metadata": {
        "id": "uN7v-fZSOq3v"
      },
      "source": [
        "## 3. Objectives\n",
        "\n",
        "* To analyze the distribution of movie runtimes.\n",
        "\n",
        "* To determine the average movie rating across different runtime categories.\n",
        "\n",
        "* To assess the impact of the number of genres in a movie on the average movie rating.\n",
        "\n",
        "* To evaluate the correlation between the number of genres, number of writers, number of directors, and average movie rating.\n",
        "\n",
        "* To examine the trend of movie runtimes over time."
      ]
    },
    {
      "cell_type": "markdown",
      "metadata": {
        "id": "NTWR1YO3UGZN"
      },
      "source": [
        "## 4. Data understanding"
      ]
    },
    {
      "cell_type": "code",
      "execution_count": 36,
      "metadata": {
        "id": "BV-V4-61tXjl"
      },
      "outputs": [],
      "source": [
        "# Importing libraries\n",
        "import gzip\n",
        "import pandas as pd\n",
        "import matplotlib.pyplot as plt\n",
        "import seaborn as sns"
      ]
    },
    {
      "cell_type": "markdown",
      "metadata": {
        "id": "73115332"
      },
      "source": [
        "**Loading and reading the zipped csv file**\n",
        "\n",
        "I decided to use the data from title.basics.csv, title.crew.csv, title.principals.csv, title.ratings.csv\n"
      ]
    },
    {
      "cell_type": "code",
      "execution_count": 37,
      "metadata": {
        "id": "EExKpfAdtYqf"
      },
      "outputs": [],
      "source": [
        "\n",
        "with gzip.open('/content/imdb.title.basics.csv.gz', 'rt') as a:\n",
        "    df_title_basics = pd.read_csv(a)\n",
        "\n",
        "with gzip.open('/content/imdb.title.crew.csv.gz', 'rt') as b:\n",
        "    df_title_crew = pd.read_csv(b)\n",
        "\n",
        "with gzip.open('/content/imdb.title.principals.csv.gz', 'rt') as c:\n",
        "    df_title_principals = pd.read_csv(c)\n",
        "\n",
        "with gzip.open('/content/imdb.title.ratings.csv.gz', 'rt') as d:\n",
        "    df_title_ratings = pd.read_csv(d)"
      ]
    },
    {
      "cell_type": "markdown",
      "metadata": {
        "id": "ef491d7c"
      },
      "source": [
        "**Merging Datasets**\n",
        "\n",
        "These files have a common column **'tconst'**, which is what I will use to merge the datasets on.\n",
        "\n"
      ]
    },
    {
      "cell_type": "code",
      "execution_count": 38,
      "metadata": {
        "id": "bOwkg6snkn-s"
      },
      "outputs": [],
      "source": [
        "merged_df = df_title_basics.merge(df_title_ratings, on='tconst', how='left')\n",
        "merged_df = merged_df.merge(df_title_principals, on='tconst', how='left')\n",
        "merged_df = merged_df.merge(df_title_crew, on='tconst', how='left')"
      ]
    },
    {
      "cell_type": "markdown",
      "metadata": {
        "id": "npUjsBqx3ynR"
      },
      "source": [
        "**Exploring the shape of the data**"
      ]
    },
    {
      "cell_type": "code",
      "execution_count": 39,
      "metadata": {
        "colab": {
          "base_uri": "https://localhost:8080/"
        },
        "id": "cd45OYWc0pvR",
        "outputId": "e665f37e-ba7e-4b10-a5fe-df18ef842c48"
      },
      "outputs": [
        {
          "output_type": "execute_result",
          "data": {
            "text/plain": [
              "(1030876, 15)"
            ]
          },
          "metadata": {},
          "execution_count": 39
        }
      ],
      "source": [
        "# Shape of the Data that shows the number of rows and columns of the merged dataset\n",
        "merged_df.shape"
      ]
    },
    {
      "cell_type": "code",
      "execution_count": 40,
      "metadata": {
        "colab": {
          "base_uri": "https://localhost:8080/",
          "height": 295
        },
        "id": "rB__ujCe3e6R",
        "outputId": "c4ec9478-f5fb-4b2a-8d91-bd4ae77d1868"
      },
      "outputs": [
        {
          "output_type": "display_data",
          "data": {
            "text/plain": [
              "      tconst primary_title original_title  start_year  runtime_minutes  \\\n",
              "0  tt0063540     Sunghursh      Sunghursh        2013            175.0   \n",
              "1  tt0063540     Sunghursh      Sunghursh        2013            175.0   \n",
              "2  tt0063540     Sunghursh      Sunghursh        2013            175.0   \n",
              "3  tt0063540     Sunghursh      Sunghursh        2013            175.0   \n",
              "4  tt0063540     Sunghursh      Sunghursh        2013            175.0   \n",
              "\n",
              "               genres  averagerating  numvotes  ordering     nconst  category  \\\n",
              "0  Action,Crime,Drama            7.0      77.0      10.0  nm0006210  composer   \n",
              "1  Action,Crime,Drama            7.0      77.0       1.0  nm0474801     actor   \n",
              "2  Action,Crime,Drama            7.0      77.0       2.0  nm0904537   actress   \n",
              "3  Action,Crime,Drama            7.0      77.0       3.0  nm0756379     actor   \n",
              "4  Action,Crime,Drama            7.0      77.0       4.0  nm0474876     actor   \n",
              "\n",
              "   job                       characters  directors  \\\n",
              "0  NaN                              NaN  nm0712540   \n",
              "1  NaN  [\"Kundan S. Prasad\",\"Bajrangi\"]  nm0712540   \n",
              "2  NaN      [\"Munni\",\"Laila-E-Aasmaan\"]  nm0712540   \n",
              "3  NaN            [\"Ganeshi N. Prasad\"]  nm0712540   \n",
              "4  NaN             [\"Dwarka N. Prasad\"]  nm0712540   \n",
              "\n",
              "                                   writers  \n",
              "0  nm0023551,nm1194313,nm0347899,nm1391276  \n",
              "1  nm0023551,nm1194313,nm0347899,nm1391276  \n",
              "2  nm0023551,nm1194313,nm0347899,nm1391276  \n",
              "3  nm0023551,nm1194313,nm0347899,nm1391276  \n",
              "4  nm0023551,nm1194313,nm0347899,nm1391276  "
            ],
            "text/html": [
              "\n",
              "  <div id=\"df-34fce8a4-f28b-43c5-912e-b2aea7327f5c\" class=\"colab-df-container\">\n",
              "    <div>\n",
              "<style scoped>\n",
              "    .dataframe tbody tr th:only-of-type {\n",
              "        vertical-align: middle;\n",
              "    }\n",
              "\n",
              "    .dataframe tbody tr th {\n",
              "        vertical-align: top;\n",
              "    }\n",
              "\n",
              "    .dataframe thead th {\n",
              "        text-align: right;\n",
              "    }\n",
              "</style>\n",
              "<table border=\"1\" class=\"dataframe\">\n",
              "  <thead>\n",
              "    <tr style=\"text-align: right;\">\n",
              "      <th></th>\n",
              "      <th>tconst</th>\n",
              "      <th>primary_title</th>\n",
              "      <th>original_title</th>\n",
              "      <th>start_year</th>\n",
              "      <th>runtime_minutes</th>\n",
              "      <th>genres</th>\n",
              "      <th>averagerating</th>\n",
              "      <th>numvotes</th>\n",
              "      <th>ordering</th>\n",
              "      <th>nconst</th>\n",
              "      <th>category</th>\n",
              "      <th>job</th>\n",
              "      <th>characters</th>\n",
              "      <th>directors</th>\n",
              "      <th>writers</th>\n",
              "    </tr>\n",
              "  </thead>\n",
              "  <tbody>\n",
              "    <tr>\n",
              "      <th>0</th>\n",
              "      <td>tt0063540</td>\n",
              "      <td>Sunghursh</td>\n",
              "      <td>Sunghursh</td>\n",
              "      <td>2013</td>\n",
              "      <td>175.0</td>\n",
              "      <td>Action,Crime,Drama</td>\n",
              "      <td>7.0</td>\n",
              "      <td>77.0</td>\n",
              "      <td>10.0</td>\n",
              "      <td>nm0006210</td>\n",
              "      <td>composer</td>\n",
              "      <td>NaN</td>\n",
              "      <td>NaN</td>\n",
              "      <td>nm0712540</td>\n",
              "      <td>nm0023551,nm1194313,nm0347899,nm1391276</td>\n",
              "    </tr>\n",
              "    <tr>\n",
              "      <th>1</th>\n",
              "      <td>tt0063540</td>\n",
              "      <td>Sunghursh</td>\n",
              "      <td>Sunghursh</td>\n",
              "      <td>2013</td>\n",
              "      <td>175.0</td>\n",
              "      <td>Action,Crime,Drama</td>\n",
              "      <td>7.0</td>\n",
              "      <td>77.0</td>\n",
              "      <td>1.0</td>\n",
              "      <td>nm0474801</td>\n",
              "      <td>actor</td>\n",
              "      <td>NaN</td>\n",
              "      <td>[\"Kundan S. Prasad\",\"Bajrangi\"]</td>\n",
              "      <td>nm0712540</td>\n",
              "      <td>nm0023551,nm1194313,nm0347899,nm1391276</td>\n",
              "    </tr>\n",
              "    <tr>\n",
              "      <th>2</th>\n",
              "      <td>tt0063540</td>\n",
              "      <td>Sunghursh</td>\n",
              "      <td>Sunghursh</td>\n",
              "      <td>2013</td>\n",
              "      <td>175.0</td>\n",
              "      <td>Action,Crime,Drama</td>\n",
              "      <td>7.0</td>\n",
              "      <td>77.0</td>\n",
              "      <td>2.0</td>\n",
              "      <td>nm0904537</td>\n",
              "      <td>actress</td>\n",
              "      <td>NaN</td>\n",
              "      <td>[\"Munni\",\"Laila-E-Aasmaan\"]</td>\n",
              "      <td>nm0712540</td>\n",
              "      <td>nm0023551,nm1194313,nm0347899,nm1391276</td>\n",
              "    </tr>\n",
              "    <tr>\n",
              "      <th>3</th>\n",
              "      <td>tt0063540</td>\n",
              "      <td>Sunghursh</td>\n",
              "      <td>Sunghursh</td>\n",
              "      <td>2013</td>\n",
              "      <td>175.0</td>\n",
              "      <td>Action,Crime,Drama</td>\n",
              "      <td>7.0</td>\n",
              "      <td>77.0</td>\n",
              "      <td>3.0</td>\n",
              "      <td>nm0756379</td>\n",
              "      <td>actor</td>\n",
              "      <td>NaN</td>\n",
              "      <td>[\"Ganeshi N. Prasad\"]</td>\n",
              "      <td>nm0712540</td>\n",
              "      <td>nm0023551,nm1194313,nm0347899,nm1391276</td>\n",
              "    </tr>\n",
              "    <tr>\n",
              "      <th>4</th>\n",
              "      <td>tt0063540</td>\n",
              "      <td>Sunghursh</td>\n",
              "      <td>Sunghursh</td>\n",
              "      <td>2013</td>\n",
              "      <td>175.0</td>\n",
              "      <td>Action,Crime,Drama</td>\n",
              "      <td>7.0</td>\n",
              "      <td>77.0</td>\n",
              "      <td>4.0</td>\n",
              "      <td>nm0474876</td>\n",
              "      <td>actor</td>\n",
              "      <td>NaN</td>\n",
              "      <td>[\"Dwarka N. Prasad\"]</td>\n",
              "      <td>nm0712540</td>\n",
              "      <td>nm0023551,nm1194313,nm0347899,nm1391276</td>\n",
              "    </tr>\n",
              "  </tbody>\n",
              "</table>\n",
              "</div>\n",
              "    <div class=\"colab-df-buttons\">\n",
              "\n",
              "  <div class=\"colab-df-container\">\n",
              "    <button class=\"colab-df-convert\" onclick=\"convertToInteractive('df-34fce8a4-f28b-43c5-912e-b2aea7327f5c')\"\n",
              "            title=\"Convert this dataframe to an interactive table.\"\n",
              "            style=\"display:none;\">\n",
              "\n",
              "  <svg xmlns=\"http://www.w3.org/2000/svg\" height=\"24px\" viewBox=\"0 -960 960 960\">\n",
              "    <path d=\"M120-120v-720h720v720H120Zm60-500h600v-160H180v160Zm220 220h160v-160H400v160Zm0 220h160v-160H400v160ZM180-400h160v-160H180v160Zm440 0h160v-160H620v160ZM180-180h160v-160H180v160Zm440 0h160v-160H620v160Z\"/>\n",
              "  </svg>\n",
              "    </button>\n",
              "\n",
              "  <style>\n",
              "    .colab-df-container {\n",
              "      display:flex;\n",
              "      gap: 12px;\n",
              "    }\n",
              "\n",
              "    .colab-df-convert {\n",
              "      background-color: #E8F0FE;\n",
              "      border: none;\n",
              "      border-radius: 50%;\n",
              "      cursor: pointer;\n",
              "      display: none;\n",
              "      fill: #1967D2;\n",
              "      height: 32px;\n",
              "      padding: 0 0 0 0;\n",
              "      width: 32px;\n",
              "    }\n",
              "\n",
              "    .colab-df-convert:hover {\n",
              "      background-color: #E2EBFA;\n",
              "      box-shadow: 0px 1px 2px rgba(60, 64, 67, 0.3), 0px 1px 3px 1px rgba(60, 64, 67, 0.15);\n",
              "      fill: #174EA6;\n",
              "    }\n",
              "\n",
              "    .colab-df-buttons div {\n",
              "      margin-bottom: 4px;\n",
              "    }\n",
              "\n",
              "    [theme=dark] .colab-df-convert {\n",
              "      background-color: #3B4455;\n",
              "      fill: #D2E3FC;\n",
              "    }\n",
              "\n",
              "    [theme=dark] .colab-df-convert:hover {\n",
              "      background-color: #434B5C;\n",
              "      box-shadow: 0px 1px 3px 1px rgba(0, 0, 0, 0.15);\n",
              "      filter: drop-shadow(0px 1px 2px rgba(0, 0, 0, 0.3));\n",
              "      fill: #FFFFFF;\n",
              "    }\n",
              "  </style>\n",
              "\n",
              "    <script>\n",
              "      const buttonEl =\n",
              "        document.querySelector('#df-34fce8a4-f28b-43c5-912e-b2aea7327f5c button.colab-df-convert');\n",
              "      buttonEl.style.display =\n",
              "        google.colab.kernel.accessAllowed ? 'block' : 'none';\n",
              "\n",
              "      async function convertToInteractive(key) {\n",
              "        const element = document.querySelector('#df-34fce8a4-f28b-43c5-912e-b2aea7327f5c');\n",
              "        const dataTable =\n",
              "          await google.colab.kernel.invokeFunction('convertToInteractive',\n",
              "                                                    [key], {});\n",
              "        if (!dataTable) return;\n",
              "\n",
              "        const docLinkHtml = 'Like what you see? Visit the ' +\n",
              "          '<a target=\"_blank\" href=https://colab.research.google.com/notebooks/data_table.ipynb>data table notebook</a>'\n",
              "          + ' to learn more about interactive tables.';\n",
              "        element.innerHTML = '';\n",
              "        dataTable['output_type'] = 'display_data';\n",
              "        await google.colab.output.renderOutput(dataTable, element);\n",
              "        const docLink = document.createElement('div');\n",
              "        docLink.innerHTML = docLinkHtml;\n",
              "        element.appendChild(docLink);\n",
              "      }\n",
              "    </script>\n",
              "  </div>\n",
              "\n",
              "\n",
              "    <div id=\"df-be90602a-e6aa-4b2f-9490-0c64f183b706\">\n",
              "      <button class=\"colab-df-quickchart\" onclick=\"quickchart('df-be90602a-e6aa-4b2f-9490-0c64f183b706')\"\n",
              "                title=\"Suggest charts\"\n",
              "                style=\"display:none;\">\n",
              "\n",
              "<svg xmlns=\"http://www.w3.org/2000/svg\" height=\"24px\"viewBox=\"0 0 24 24\"\n",
              "     width=\"24px\">\n",
              "    <g>\n",
              "        <path d=\"M19 3H5c-1.1 0-2 .9-2 2v14c0 1.1.9 2 2 2h14c1.1 0 2-.9 2-2V5c0-1.1-.9-2-2-2zM9 17H7v-7h2v7zm4 0h-2V7h2v10zm4 0h-2v-4h2v4z\"/>\n",
              "    </g>\n",
              "</svg>\n",
              "      </button>\n",
              "\n",
              "<style>\n",
              "  .colab-df-quickchart {\n",
              "      --bg-color: #E8F0FE;\n",
              "      --fill-color: #1967D2;\n",
              "      --hover-bg-color: #E2EBFA;\n",
              "      --hover-fill-color: #174EA6;\n",
              "      --disabled-fill-color: #AAA;\n",
              "      --disabled-bg-color: #DDD;\n",
              "  }\n",
              "\n",
              "  [theme=dark] .colab-df-quickchart {\n",
              "      --bg-color: #3B4455;\n",
              "      --fill-color: #D2E3FC;\n",
              "      --hover-bg-color: #434B5C;\n",
              "      --hover-fill-color: #FFFFFF;\n",
              "      --disabled-bg-color: #3B4455;\n",
              "      --disabled-fill-color: #666;\n",
              "  }\n",
              "\n",
              "  .colab-df-quickchart {\n",
              "    background-color: var(--bg-color);\n",
              "    border: none;\n",
              "    border-radius: 50%;\n",
              "    cursor: pointer;\n",
              "    display: none;\n",
              "    fill: var(--fill-color);\n",
              "    height: 32px;\n",
              "    padding: 0;\n",
              "    width: 32px;\n",
              "  }\n",
              "\n",
              "  .colab-df-quickchart:hover {\n",
              "    background-color: var(--hover-bg-color);\n",
              "    box-shadow: 0 1px 2px rgba(60, 64, 67, 0.3), 0 1px 3px 1px rgba(60, 64, 67, 0.15);\n",
              "    fill: var(--button-hover-fill-color);\n",
              "  }\n",
              "\n",
              "  .colab-df-quickchart-complete:disabled,\n",
              "  .colab-df-quickchart-complete:disabled:hover {\n",
              "    background-color: var(--disabled-bg-color);\n",
              "    fill: var(--disabled-fill-color);\n",
              "    box-shadow: none;\n",
              "  }\n",
              "\n",
              "  .colab-df-spinner {\n",
              "    border: 2px solid var(--fill-color);\n",
              "    border-color: transparent;\n",
              "    border-bottom-color: var(--fill-color);\n",
              "    animation:\n",
              "      spin 1s steps(1) infinite;\n",
              "  }\n",
              "\n",
              "  @keyframes spin {\n",
              "    0% {\n",
              "      border-color: transparent;\n",
              "      border-bottom-color: var(--fill-color);\n",
              "      border-left-color: var(--fill-color);\n",
              "    }\n",
              "    20% {\n",
              "      border-color: transparent;\n",
              "      border-left-color: var(--fill-color);\n",
              "      border-top-color: var(--fill-color);\n",
              "    }\n",
              "    30% {\n",
              "      border-color: transparent;\n",
              "      border-left-color: var(--fill-color);\n",
              "      border-top-color: var(--fill-color);\n",
              "      border-right-color: var(--fill-color);\n",
              "    }\n",
              "    40% {\n",
              "      border-color: transparent;\n",
              "      border-right-color: var(--fill-color);\n",
              "      border-top-color: var(--fill-color);\n",
              "    }\n",
              "    60% {\n",
              "      border-color: transparent;\n",
              "      border-right-color: var(--fill-color);\n",
              "    }\n",
              "    80% {\n",
              "      border-color: transparent;\n",
              "      border-right-color: var(--fill-color);\n",
              "      border-bottom-color: var(--fill-color);\n",
              "    }\n",
              "    90% {\n",
              "      border-color: transparent;\n",
              "      border-bottom-color: var(--fill-color);\n",
              "    }\n",
              "  }\n",
              "</style>\n",
              "\n",
              "      <script>\n",
              "        async function quickchart(key) {\n",
              "          const quickchartButtonEl =\n",
              "            document.querySelector('#' + key + ' button');\n",
              "          quickchartButtonEl.disabled = true;  // To prevent multiple clicks.\n",
              "          quickchartButtonEl.classList.add('colab-df-spinner');\n",
              "          try {\n",
              "            const charts = await google.colab.kernel.invokeFunction(\n",
              "                'suggestCharts', [key], {});\n",
              "          } catch (error) {\n",
              "            console.error('Error during call to suggestCharts:', error);\n",
              "          }\n",
              "          quickchartButtonEl.classList.remove('colab-df-spinner');\n",
              "          quickchartButtonEl.classList.add('colab-df-quickchart-complete');\n",
              "        }\n",
              "        (() => {\n",
              "          let quickchartButtonEl =\n",
              "            document.querySelector('#df-be90602a-e6aa-4b2f-9490-0c64f183b706 button');\n",
              "          quickchartButtonEl.style.display =\n",
              "            google.colab.kernel.accessAllowed ? 'block' : 'none';\n",
              "        })();\n",
              "      </script>\n",
              "    </div>\n",
              "\n",
              "    </div>\n",
              "  </div>\n"
            ],
            "application/vnd.google.colaboratory.intrinsic+json": {
              "type": "dataframe",
              "repr_error": "Out of range float values are not JSON compliant: nan"
            }
          },
          "metadata": {}
        }
      ],
      "source": [
        "# Showing the first few rows of the merged dataset\n",
        "display(merged_df.head())"
      ]
    },
    {
      "cell_type": "code",
      "execution_count": 41,
      "metadata": {
        "colab": {
          "base_uri": "https://localhost:8080/",
          "height": 300
        },
        "id": "l7y47Roh1bi6",
        "outputId": "9e4695bd-8691-463b-856c-80dc99772dca"
      },
      "outputs": [
        {
          "output_type": "execute_result",
          "data": {
            "text/plain": [
              "         start_year  runtime_minutes  averagerating      numvotes  \\\n",
              "count  1.030876e+06    828893.000000  629926.000000  6.299260e+05   \n",
              "mean   2.014607e+03        90.390172       6.261943  4.108752e+03   \n",
              "std    2.742710e+00       111.022517       1.452052  3.275891e+04   \n",
              "min    2.010000e+03         1.000000       1.000000  5.000000e+00   \n",
              "25%    2.012000e+03        76.000000       5.400000  1.600000e+01   \n",
              "50%    2.015000e+03        90.000000       6.400000  6.500000e+01   \n",
              "75%    2.017000e+03       102.000000       7.300000  3.670000e+02   \n",
              "max    2.115000e+03     51420.000000      10.000000  1.841066e+06   \n",
              "\n",
              "           ordering  \n",
              "count  1.028186e+06  \n",
              "mean   4.739847e+00  \n",
              "std    2.747446e+00  \n",
              "min    1.000000e+00  \n",
              "25%    2.000000e+00  \n",
              "50%    4.000000e+00  \n",
              "75%    7.000000e+00  \n",
              "max    1.000000e+01  "
            ],
            "text/html": [
              "\n",
              "  <div id=\"df-b114d9f4-058b-4b04-afd4-6380e91c9ce9\" class=\"colab-df-container\">\n",
              "    <div>\n",
              "<style scoped>\n",
              "    .dataframe tbody tr th:only-of-type {\n",
              "        vertical-align: middle;\n",
              "    }\n",
              "\n",
              "    .dataframe tbody tr th {\n",
              "        vertical-align: top;\n",
              "    }\n",
              "\n",
              "    .dataframe thead th {\n",
              "        text-align: right;\n",
              "    }\n",
              "</style>\n",
              "<table border=\"1\" class=\"dataframe\">\n",
              "  <thead>\n",
              "    <tr style=\"text-align: right;\">\n",
              "      <th></th>\n",
              "      <th>start_year</th>\n",
              "      <th>runtime_minutes</th>\n",
              "      <th>averagerating</th>\n",
              "      <th>numvotes</th>\n",
              "      <th>ordering</th>\n",
              "    </tr>\n",
              "  </thead>\n",
              "  <tbody>\n",
              "    <tr>\n",
              "      <th>count</th>\n",
              "      <td>1.030876e+06</td>\n",
              "      <td>828893.000000</td>\n",
              "      <td>629926.000000</td>\n",
              "      <td>6.299260e+05</td>\n",
              "      <td>1.028186e+06</td>\n",
              "    </tr>\n",
              "    <tr>\n",
              "      <th>mean</th>\n",
              "      <td>2.014607e+03</td>\n",
              "      <td>90.390172</td>\n",
              "      <td>6.261943</td>\n",
              "      <td>4.108752e+03</td>\n",
              "      <td>4.739847e+00</td>\n",
              "    </tr>\n",
              "    <tr>\n",
              "      <th>std</th>\n",
              "      <td>2.742710e+00</td>\n",
              "      <td>111.022517</td>\n",
              "      <td>1.452052</td>\n",
              "      <td>3.275891e+04</td>\n",
              "      <td>2.747446e+00</td>\n",
              "    </tr>\n",
              "    <tr>\n",
              "      <th>min</th>\n",
              "      <td>2.010000e+03</td>\n",
              "      <td>1.000000</td>\n",
              "      <td>1.000000</td>\n",
              "      <td>5.000000e+00</td>\n",
              "      <td>1.000000e+00</td>\n",
              "    </tr>\n",
              "    <tr>\n",
              "      <th>25%</th>\n",
              "      <td>2.012000e+03</td>\n",
              "      <td>76.000000</td>\n",
              "      <td>5.400000</td>\n",
              "      <td>1.600000e+01</td>\n",
              "      <td>2.000000e+00</td>\n",
              "    </tr>\n",
              "    <tr>\n",
              "      <th>50%</th>\n",
              "      <td>2.015000e+03</td>\n",
              "      <td>90.000000</td>\n",
              "      <td>6.400000</td>\n",
              "      <td>6.500000e+01</td>\n",
              "      <td>4.000000e+00</td>\n",
              "    </tr>\n",
              "    <tr>\n",
              "      <th>75%</th>\n",
              "      <td>2.017000e+03</td>\n",
              "      <td>102.000000</td>\n",
              "      <td>7.300000</td>\n",
              "      <td>3.670000e+02</td>\n",
              "      <td>7.000000e+00</td>\n",
              "    </tr>\n",
              "    <tr>\n",
              "      <th>max</th>\n",
              "      <td>2.115000e+03</td>\n",
              "      <td>51420.000000</td>\n",
              "      <td>10.000000</td>\n",
              "      <td>1.841066e+06</td>\n",
              "      <td>1.000000e+01</td>\n",
              "    </tr>\n",
              "  </tbody>\n",
              "</table>\n",
              "</div>\n",
              "    <div class=\"colab-df-buttons\">\n",
              "\n",
              "  <div class=\"colab-df-container\">\n",
              "    <button class=\"colab-df-convert\" onclick=\"convertToInteractive('df-b114d9f4-058b-4b04-afd4-6380e91c9ce9')\"\n",
              "            title=\"Convert this dataframe to an interactive table.\"\n",
              "            style=\"display:none;\">\n",
              "\n",
              "  <svg xmlns=\"http://www.w3.org/2000/svg\" height=\"24px\" viewBox=\"0 -960 960 960\">\n",
              "    <path d=\"M120-120v-720h720v720H120Zm60-500h600v-160H180v160Zm220 220h160v-160H400v160Zm0 220h160v-160H400v160ZM180-400h160v-160H180v160Zm440 0h160v-160H620v160ZM180-180h160v-160H180v160Zm440 0h160v-160H620v160Z\"/>\n",
              "  </svg>\n",
              "    </button>\n",
              "\n",
              "  <style>\n",
              "    .colab-df-container {\n",
              "      display:flex;\n",
              "      gap: 12px;\n",
              "    }\n",
              "\n",
              "    .colab-df-convert {\n",
              "      background-color: #E8F0FE;\n",
              "      border: none;\n",
              "      border-radius: 50%;\n",
              "      cursor: pointer;\n",
              "      display: none;\n",
              "      fill: #1967D2;\n",
              "      height: 32px;\n",
              "      padding: 0 0 0 0;\n",
              "      width: 32px;\n",
              "    }\n",
              "\n",
              "    .colab-df-convert:hover {\n",
              "      background-color: #E2EBFA;\n",
              "      box-shadow: 0px 1px 2px rgba(60, 64, 67, 0.3), 0px 1px 3px 1px rgba(60, 64, 67, 0.15);\n",
              "      fill: #174EA6;\n",
              "    }\n",
              "\n",
              "    .colab-df-buttons div {\n",
              "      margin-bottom: 4px;\n",
              "    }\n",
              "\n",
              "    [theme=dark] .colab-df-convert {\n",
              "      background-color: #3B4455;\n",
              "      fill: #D2E3FC;\n",
              "    }\n",
              "\n",
              "    [theme=dark] .colab-df-convert:hover {\n",
              "      background-color: #434B5C;\n",
              "      box-shadow: 0px 1px 3px 1px rgba(0, 0, 0, 0.15);\n",
              "      filter: drop-shadow(0px 1px 2px rgba(0, 0, 0, 0.3));\n",
              "      fill: #FFFFFF;\n",
              "    }\n",
              "  </style>\n",
              "\n",
              "    <script>\n",
              "      const buttonEl =\n",
              "        document.querySelector('#df-b114d9f4-058b-4b04-afd4-6380e91c9ce9 button.colab-df-convert');\n",
              "      buttonEl.style.display =\n",
              "        google.colab.kernel.accessAllowed ? 'block' : 'none';\n",
              "\n",
              "      async function convertToInteractive(key) {\n",
              "        const element = document.querySelector('#df-b114d9f4-058b-4b04-afd4-6380e91c9ce9');\n",
              "        const dataTable =\n",
              "          await google.colab.kernel.invokeFunction('convertToInteractive',\n",
              "                                                    [key], {});\n",
              "        if (!dataTable) return;\n",
              "\n",
              "        const docLinkHtml = 'Like what you see? Visit the ' +\n",
              "          '<a target=\"_blank\" href=https://colab.research.google.com/notebooks/data_table.ipynb>data table notebook</a>'\n",
              "          + ' to learn more about interactive tables.';\n",
              "        element.innerHTML = '';\n",
              "        dataTable['output_type'] = 'display_data';\n",
              "        await google.colab.output.renderOutput(dataTable, element);\n",
              "        const docLink = document.createElement('div');\n",
              "        docLink.innerHTML = docLinkHtml;\n",
              "        element.appendChild(docLink);\n",
              "      }\n",
              "    </script>\n",
              "  </div>\n",
              "\n",
              "\n",
              "    <div id=\"df-f19fd8ab-622b-49ed-b507-c8ecf0d664fc\">\n",
              "      <button class=\"colab-df-quickchart\" onclick=\"quickchart('df-f19fd8ab-622b-49ed-b507-c8ecf0d664fc')\"\n",
              "                title=\"Suggest charts\"\n",
              "                style=\"display:none;\">\n",
              "\n",
              "<svg xmlns=\"http://www.w3.org/2000/svg\" height=\"24px\"viewBox=\"0 0 24 24\"\n",
              "     width=\"24px\">\n",
              "    <g>\n",
              "        <path d=\"M19 3H5c-1.1 0-2 .9-2 2v14c0 1.1.9 2 2 2h14c1.1 0 2-.9 2-2V5c0-1.1-.9-2-2-2zM9 17H7v-7h2v7zm4 0h-2V7h2v10zm4 0h-2v-4h2v4z\"/>\n",
              "    </g>\n",
              "</svg>\n",
              "      </button>\n",
              "\n",
              "<style>\n",
              "  .colab-df-quickchart {\n",
              "      --bg-color: #E8F0FE;\n",
              "      --fill-color: #1967D2;\n",
              "      --hover-bg-color: #E2EBFA;\n",
              "      --hover-fill-color: #174EA6;\n",
              "      --disabled-fill-color: #AAA;\n",
              "      --disabled-bg-color: #DDD;\n",
              "  }\n",
              "\n",
              "  [theme=dark] .colab-df-quickchart {\n",
              "      --bg-color: #3B4455;\n",
              "      --fill-color: #D2E3FC;\n",
              "      --hover-bg-color: #434B5C;\n",
              "      --hover-fill-color: #FFFFFF;\n",
              "      --disabled-bg-color: #3B4455;\n",
              "      --disabled-fill-color: #666;\n",
              "  }\n",
              "\n",
              "  .colab-df-quickchart {\n",
              "    background-color: var(--bg-color);\n",
              "    border: none;\n",
              "    border-radius: 50%;\n",
              "    cursor: pointer;\n",
              "    display: none;\n",
              "    fill: var(--fill-color);\n",
              "    height: 32px;\n",
              "    padding: 0;\n",
              "    width: 32px;\n",
              "  }\n",
              "\n",
              "  .colab-df-quickchart:hover {\n",
              "    background-color: var(--hover-bg-color);\n",
              "    box-shadow: 0 1px 2px rgba(60, 64, 67, 0.3), 0 1px 3px 1px rgba(60, 64, 67, 0.15);\n",
              "    fill: var(--button-hover-fill-color);\n",
              "  }\n",
              "\n",
              "  .colab-df-quickchart-complete:disabled,\n",
              "  .colab-df-quickchart-complete:disabled:hover {\n",
              "    background-color: var(--disabled-bg-color);\n",
              "    fill: var(--disabled-fill-color);\n",
              "    box-shadow: none;\n",
              "  }\n",
              "\n",
              "  .colab-df-spinner {\n",
              "    border: 2px solid var(--fill-color);\n",
              "    border-color: transparent;\n",
              "    border-bottom-color: var(--fill-color);\n",
              "    animation:\n",
              "      spin 1s steps(1) infinite;\n",
              "  }\n",
              "\n",
              "  @keyframes spin {\n",
              "    0% {\n",
              "      border-color: transparent;\n",
              "      border-bottom-color: var(--fill-color);\n",
              "      border-left-color: var(--fill-color);\n",
              "    }\n",
              "    20% {\n",
              "      border-color: transparent;\n",
              "      border-left-color: var(--fill-color);\n",
              "      border-top-color: var(--fill-color);\n",
              "    }\n",
              "    30% {\n",
              "      border-color: transparent;\n",
              "      border-left-color: var(--fill-color);\n",
              "      border-top-color: var(--fill-color);\n",
              "      border-right-color: var(--fill-color);\n",
              "    }\n",
              "    40% {\n",
              "      border-color: transparent;\n",
              "      border-right-color: var(--fill-color);\n",
              "      border-top-color: var(--fill-color);\n",
              "    }\n",
              "    60% {\n",
              "      border-color: transparent;\n",
              "      border-right-color: var(--fill-color);\n",
              "    }\n",
              "    80% {\n",
              "      border-color: transparent;\n",
              "      border-right-color: var(--fill-color);\n",
              "      border-bottom-color: var(--fill-color);\n",
              "    }\n",
              "    90% {\n",
              "      border-color: transparent;\n",
              "      border-bottom-color: var(--fill-color);\n",
              "    }\n",
              "  }\n",
              "</style>\n",
              "\n",
              "      <script>\n",
              "        async function quickchart(key) {\n",
              "          const quickchartButtonEl =\n",
              "            document.querySelector('#' + key + ' button');\n",
              "          quickchartButtonEl.disabled = true;  // To prevent multiple clicks.\n",
              "          quickchartButtonEl.classList.add('colab-df-spinner');\n",
              "          try {\n",
              "            const charts = await google.colab.kernel.invokeFunction(\n",
              "                'suggestCharts', [key], {});\n",
              "          } catch (error) {\n",
              "            console.error('Error during call to suggestCharts:', error);\n",
              "          }\n",
              "          quickchartButtonEl.classList.remove('colab-df-spinner');\n",
              "          quickchartButtonEl.classList.add('colab-df-quickchart-complete');\n",
              "        }\n",
              "        (() => {\n",
              "          let quickchartButtonEl =\n",
              "            document.querySelector('#df-f19fd8ab-622b-49ed-b507-c8ecf0d664fc button');\n",
              "          quickchartButtonEl.style.display =\n",
              "            google.colab.kernel.accessAllowed ? 'block' : 'none';\n",
              "        })();\n",
              "      </script>\n",
              "    </div>\n",
              "\n",
              "    </div>\n",
              "  </div>\n"
            ],
            "application/vnd.google.colaboratory.intrinsic+json": {
              "type": "dataframe",
              "summary": "{\n  \"name\": \"merged_df\",\n  \"rows\": 8,\n  \"fields\": [\n    {\n      \"column\": \"start_year\",\n      \"properties\": {\n        \"dtype\": \"number\",\n        \"std\": 363854.8950890142,\n        \"min\": 2.742709502972154,\n        \"max\": 1030876.0,\n        \"num_unique_values\": 8,\n        \"samples\": [\n          2014.6072864243615,\n          2015.0,\n          1030876.0\n        ],\n        \"semantic_type\": \"\",\n        \"description\": \"\"\n      }\n    },\n    {\n      \"column\": \"runtime_minutes\",\n      \"properties\": {\n        \"dtype\": \"number\",\n        \"std\": 290992.20390094345,\n        \"min\": 1.0,\n        \"max\": 828893.0,\n        \"num_unique_values\": 8,\n        \"samples\": [\n          90.39017219351594,\n          90.0,\n          828893.0\n        ],\n        \"semantic_type\": \"\",\n        \"description\": \"\"\n      }\n    },\n    {\n      \"column\": \"averagerating\",\n      \"properties\": {\n        \"dtype\": \"number\",\n        \"std\": 222710.5632474208,\n        \"min\": 1.0,\n        \"max\": 629926.0,\n        \"num_unique_values\": 8,\n        \"samples\": [\n          6.261942990129,\n          6.4,\n          629926.0\n        ],\n        \"semantic_type\": \"\",\n        \"description\": \"\"\n      }\n    },\n    {\n      \"column\": \"numvotes\",\n      \"properties\": {\n        \"dtype\": \"number\",\n        \"std\": 654759.1596245684,\n        \"min\": 5.0,\n        \"max\": 1841066.0,\n        \"num_unique_values\": 8,\n        \"samples\": [\n          4108.752048653334,\n          65.0,\n          629926.0\n        ],\n        \"semantic_type\": \"\",\n        \"description\": \"\"\n      }\n    },\n    {\n      \"column\": \"ordering\",\n      \"properties\": {\n        \"dtype\": \"number\",\n        \"std\": 363517.0561235855,\n        \"min\": 1.0,\n        \"max\": 1028186.0,\n        \"num_unique_values\": 8,\n        \"samples\": [\n          4.739846681437016,\n          4.0,\n          1028186.0\n        ],\n        \"semantic_type\": \"\",\n        \"description\": \"\"\n      }\n    }\n  ]\n}"
            }
          },
          "metadata": {},
          "execution_count": 41
        }
      ],
      "source": [
        "# getting the descriptive statistics of the numeric columns\n",
        "merged_df.describe()"
      ]
    },
    {
      "cell_type": "code",
      "execution_count": 42,
      "metadata": {
        "colab": {
          "base_uri": "https://localhost:8080/"
        },
        "id": "ek40KcD-1aLh",
        "outputId": "c35ff04e-54ff-4ffb-f1d0-036ee885aa88"
      },
      "outputs": [
        {
          "output_type": "stream",
          "name": "stdout",
          "text": [
            "<class 'pandas.core.frame.DataFrame'>\n",
            "RangeIndex: 1030876 entries, 0 to 1030875\n",
            "Data columns (total 15 columns):\n",
            " #   Column           Non-Null Count    Dtype  \n",
            "---  ------           --------------    -----  \n",
            " 0   tconst           1030876 non-null  object \n",
            " 1   primary_title    1030870 non-null  object \n",
            " 2   original_title   1030849 non-null  object \n",
            " 3   start_year       1030876 non-null  int64  \n",
            " 4   runtime_minutes  828893 non-null   float64\n",
            " 5   genres           1007380 non-null  object \n",
            " 6   averagerating    629926 non-null   float64\n",
            " 7   numvotes         629926 non-null   float64\n",
            " 8   ordering         1028186 non-null  float64\n",
            " 9   nconst           1028186 non-null  object \n",
            " 10  category         1028186 non-null  object \n",
            " 11  job              177684 non-null   object \n",
            " 12  characters       393360 non-null   object \n",
            " 13  directors        1014587 non-null  object \n",
            " 14  writers          861040 non-null   object \n",
            "dtypes: float64(4), int64(1), object(10)\n",
            "memory usage: 118.0+ MB\n"
          ]
        }
      ],
      "source": [
        "# Getting the information on the column types and the number of non-null values\n",
        "merged_df.info()"
      ]
    },
    {
      "cell_type": "markdown",
      "metadata": {
        "id": "zCOUyJTG4YF4"
      },
      "source": [
        "## 5. Data Cleaning"
      ]
    },
    {
      "cell_type": "markdown",
      "metadata": {
        "id": "55f34d77"
      },
      "source": [
        "**Removing Duplicates**"
      ]
    },
    {
      "cell_type": "code",
      "execution_count": 43,
      "metadata": {
        "id": "teFB07KSGCDg"
      },
      "outputs": [],
      "source": [
        "# Remove duplicates based on the column tconst\n",
        "clean_df = merged_df.drop_duplicates(subset=['tconst'])"
      ]
    },
    {
      "cell_type": "markdown",
      "metadata": {
        "id": "d0bf5402"
      },
      "source": [
        "**Feature Reduction**"
      ]
    },
    {
      "cell_type": "code",
      "execution_count": 44,
      "metadata": {
        "id": "7BiM2YaGKzWn"
      },
      "outputs": [],
      "source": [
        "# Remove the column name nconst - it does not provide much information\n",
        "clean_df = clean_df.drop(columns=['nconst'])\n",
        "\n",
        "# Remove the column name original_title - it has similar information to primary_title\n",
        "clean_df = clean_df.drop(columns=['original_title'])"
      ]
    },
    {
      "cell_type": "markdown",
      "metadata": {
        "id": "0cdda07b"
      },
      "source": [
        "**Handling Missing Values**"
      ]
    },
    {
      "cell_type": "code",
      "execution_count": 45,
      "metadata": {
        "id": "lHAFg55SSDOe"
      },
      "outputs": [],
      "source": [
        "# Replace NaN in averagerating and numvotes with the value 0\n",
        "clean_df['averagerating'] = clean_df['averagerating'].fillna(0)\n",
        "clean_df['numvotes'] = clean_df['numvotes'].fillna(0)"
      ]
    },
    {
      "cell_type": "markdown",
      "metadata": {
        "id": "eb78e5b4"
      },
      "source": [
        "**Assessing Missing Data**"
      ]
    },
    {
      "cell_type": "code",
      "execution_count": 46,
      "metadata": {
        "colab": {
          "base_uri": "https://localhost:8080/",
          "height": 491
        },
        "id": "1twG4dKY4jiw",
        "outputId": "2c320759-ee16-457a-d69a-4874f8fd7d12"
      },
      "outputs": [
        {
          "output_type": "display_data",
          "data": {
            "text/plain": [
              "tconst              0.0\n",
              "primary_title       0.0\n",
              "start_year          0.0\n",
              "runtime_minutes    22.0\n",
              "genres              4.0\n",
              "averagerating       0.0\n",
              "numvotes            0.0\n",
              "ordering            2.0\n",
              "category            2.0\n",
              "job                93.0\n",
              "characters         60.0\n",
              "directors           4.0\n",
              "writers            25.0\n",
              "dtype: float64"
            ],
            "text/html": [
              "<div>\n",
              "<style scoped>\n",
              "    .dataframe tbody tr th:only-of-type {\n",
              "        vertical-align: middle;\n",
              "    }\n",
              "\n",
              "    .dataframe tbody tr th {\n",
              "        vertical-align: top;\n",
              "    }\n",
              "\n",
              "    .dataframe thead th {\n",
              "        text-align: right;\n",
              "    }\n",
              "</style>\n",
              "<table border=\"1\" class=\"dataframe\">\n",
              "  <thead>\n",
              "    <tr style=\"text-align: right;\">\n",
              "      <th></th>\n",
              "      <th>0</th>\n",
              "    </tr>\n",
              "  </thead>\n",
              "  <tbody>\n",
              "    <tr>\n",
              "      <th>tconst</th>\n",
              "      <td>0.0</td>\n",
              "    </tr>\n",
              "    <tr>\n",
              "      <th>primary_title</th>\n",
              "      <td>0.0</td>\n",
              "    </tr>\n",
              "    <tr>\n",
              "      <th>start_year</th>\n",
              "      <td>0.0</td>\n",
              "    </tr>\n",
              "    <tr>\n",
              "      <th>runtime_minutes</th>\n",
              "      <td>22.0</td>\n",
              "    </tr>\n",
              "    <tr>\n",
              "      <th>genres</th>\n",
              "      <td>4.0</td>\n",
              "    </tr>\n",
              "    <tr>\n",
              "      <th>averagerating</th>\n",
              "      <td>0.0</td>\n",
              "    </tr>\n",
              "    <tr>\n",
              "      <th>numvotes</th>\n",
              "      <td>0.0</td>\n",
              "    </tr>\n",
              "    <tr>\n",
              "      <th>ordering</th>\n",
              "      <td>2.0</td>\n",
              "    </tr>\n",
              "    <tr>\n",
              "      <th>category</th>\n",
              "      <td>2.0</td>\n",
              "    </tr>\n",
              "    <tr>\n",
              "      <th>job</th>\n",
              "      <td>93.0</td>\n",
              "    </tr>\n",
              "    <tr>\n",
              "      <th>characters</th>\n",
              "      <td>60.0</td>\n",
              "    </tr>\n",
              "    <tr>\n",
              "      <th>directors</th>\n",
              "      <td>4.0</td>\n",
              "    </tr>\n",
              "    <tr>\n",
              "      <th>writers</th>\n",
              "      <td>25.0</td>\n",
              "    </tr>\n",
              "  </tbody>\n",
              "</table>\n",
              "</div><br><label><b>dtype:</b> float64</label>"
            ]
          },
          "metadata": {}
        }
      ],
      "source": [
        "# Calculate the percentage of missing values for each column\n",
        "missing_percentage = (clean_df.isnull().sum() / len(clean_df)) * 100\n",
        "\n",
        "# Round the percentage to 0 decimal points\n",
        "missing_percentage = missing_percentage.round(0)\n",
        "\n",
        "# Display the percentage of missing values\n",
        "display(missing_percentage)"
      ]
    },
    {
      "cell_type": "markdown",
      "metadata": {
        "id": "b47d0042"
      },
      "source": [
        "**Dropping columns with many missing Data**"
      ]
    },
    {
      "cell_type": "code",
      "execution_count": 47,
      "metadata": {
        "id": "4d60bebc"
      },
      "outputs": [],
      "source": [
        "# Get the list of columns to drop based on the missing percentage threshold (50%)\n",
        "columns_to_drop = missing_percentage[missing_percentage >= 50].index\n",
        "\n",
        "# Drop the identified columns from the DataFrame\n",
        "clean_df = clean_df.drop(columns=columns_to_drop)"
      ]
    },
    {
      "cell_type": "markdown",
      "metadata": {
        "id": "7e16ae89"
      },
      "source": [
        "**Removing outliers, but first, plotting box plots**"
      ]
    },
    {
      "cell_type": "code",
      "execution_count": 48,
      "metadata": {
        "colab": {
          "base_uri": "https://localhost:8080/",
          "height": 410
        },
        "id": "MZJfFuEYcFiQ",
        "outputId": "4833a501-84e3-4ac6-ca4f-4b458ba2864a"
      },
      "outputs": [
        {
          "output_type": "display_data",
          "data": {
            "text/plain": [
              "<Figure size 600x400 with 1 Axes>"
            ],
            "image/png": "[encoded data removed]"
          },
          "metadata": {}
        }
      ],
      "source": [
        "# Boxplot for start_year to detect outliers\n",
        "plt.figure(figsize=(6, 4))\n",
        "sns.boxplot(x=clean_df['start_year'])\n",
        "plt.title('Box Plot of start_year')\n",
        "plt.show()"
      ]
    },
    {
      "cell_type": "code",
      "execution_count": 49,
      "metadata": {
        "colab": {
          "base_uri": "https://localhost:8080/",
          "height": 410
        },
        "id": "mI909vZecFXx",
        "outputId": "236c65f1-6165-4e5c-a708-fadc7f872197"
      },
      "outputs": [
        {
          "output_type": "display_data",
          "data": {
            "text/plain": [
              "<Figure size 600x400 with 1 Axes>"
            ],
            "image/png": "[encoded data removed]"
          },
          "metadata": {}
        }
      ],
      "source": [
        "# Boxplot for runtime_minutes to detect outliers\n",
        "plt.figure(figsize=(6, 4))\n",
        "sns.boxplot(x=clean_df['runtime_minutes'])\n",
        "plt.title('Box Plot of runtime_minutes')\n",
        "plt.show()"
      ]
    },
    {
      "cell_type": "code",
      "execution_count": 50,
      "metadata": {
        "colab": {
          "base_uri": "https://localhost:8080/",
          "height": 410
        },
        "id": "4lfCy3JccFK1",
        "outputId": "bcc0ee3d-d317-4e9e-b6d8-354197cce207"
      },
      "outputs": [
        {
          "output_type": "display_data",
          "data": {
            "text/plain": [
              "<Figure size 600x400 with 1 Axes>"
            ],
            "image/png": "[encoded data removed]"
          },
          "metadata": {}
        }
      ],
      "source": [
        "# Boxplot for ordering to detect outliers\n",
        "plt.figure(figsize=(6, 4))\n",
        "sns.boxplot(x=clean_df['ordering'])\n",
        "plt.title('Box Plot of ordering')\n",
        "plt.show()"
      ]
    },
    {
      "cell_type": "code",
      "execution_count": 51,
      "metadata": {
        "id": "vtZKJUDpMfSC"
      },
      "outputs": [],
      "source": [
        "# Removing outliers in numeric columns using IQR\n",
        "numeric_cols = ['start_year', 'runtime_minutes', 'ordering']\n",
        "\n",
        "for col in numeric_cols:\n",
        "    Q1 = clean_df[col].quantile(0.25)\n",
        "    Q3 = clean_df[col].quantile(0.75)\n",
        "    IQR = Q3 - Q1\n",
        "\n",
        "    lower_bound = Q1 - 1.5 * IQR\n",
        "    upper_bound = Q3 + 1.5 * IQR\n",
        "\n",
        "    clean_df = clean_df[(clean_df[col] >= lower_bound) & (clean_df[col] <= upper_bound)]"
      ]
    },
    {
      "cell_type": "markdown",
      "metadata": {
        "id": "47G71ejddQrK"
      },
      "source": [
        "**Removing rows with missing values**"
      ]
    },
    {
      "cell_type": "code",
      "execution_count": 52,
      "metadata": {
        "id": "sWVYBrD2L-i4"
      },
      "outputs": [],
      "source": [
        "# Remove rows with missing values\n",
        "clean_df = clean_df.dropna(axis=0)"
      ]
    },
    {
      "cell_type": "markdown",
      "metadata": {
        "id": "da03a325"
      },
      "source": [
        "**Changing data types**"
      ]
    },
    {
      "cell_type": "code",
      "execution_count": 53,
      "metadata": {
        "id": "pnRUSQ8x1AVA"
      },
      "outputs": [],
      "source": [
        "# Convert 'numvotes' and 'ordering' columns to integer type\n",
        "clean_df['numvotes'] = clean_df['numvotes'].astype(int)\n",
        "clean_df['ordering'] = clean_df['ordering'].astype(int)"
      ]
    },
    {
      "cell_type": "markdown",
      "metadata": {
        "id": "e493a99f"
      },
      "source": [
        "**Feature engineering**"
      ]
    },
    {
      "cell_type": "code",
      "execution_count": 54,
      "metadata": {
        "id": "CLrSuPqYf6H2"
      },
      "outputs": [],
      "source": [
        "# Creating new columns\n",
        "clean_df['number of genres'] = clean_df['genres'].str.split(',').str.len()\n",
        "clean_df['number of writers'] = clean_df['writers'].str.split(',').str.len()\n",
        "clean_df['number of directors'] = clean_df['directors'].str.split(',').str.len()"
      ]
    },
    {
      "cell_type": "code",
      "execution_count": 55,
      "metadata": {
        "colab": {
          "base_uri": "https://localhost:8080/"
        },
        "id": "GsRsDN_34kob",
        "outputId": "75688734-6d5f-40fa-dc0b-bb8d28eb779e"
      },
      "outputs": [
        {
          "output_type": "stream",
          "name": "stdout",
          "text": [
            "27.0\n",
            "142.0\n"
          ]
        }
      ],
      "source": [
        "runtime_min = clean_df['runtime_minutes'].min()\n",
        "runtime_max = clean_df['runtime_minutes'].max()\n",
        "\n",
        "print(runtime_min)\n",
        "print(runtime_max)\n",
        "\n",
        "def categorize_runtime(runtime):\n",
        "    if runtime < 30:\n",
        "        return '0–30'\n",
        "    elif runtime < 60:\n",
        "        return '30–60'\n",
        "    elif runtime < 90:\n",
        "        return '60–90'\n",
        "    elif runtime < 120:\n",
        "        return '90–120'\n",
        "    else:\n",
        "        return '>120'\n",
        "\n",
        "clean_df['runtime_category'] = clean_df['runtime_minutes'].apply(categorize_runtime)"
      ]
    },
    {
      "cell_type": "markdown",
      "metadata": {
        "id": "3oYh18zLCOEf"
      },
      "source": [
        "## 6. Exploratory Data Analysis and Visualisations"
      ]
    },
    {
      "cell_type": "markdown",
      "metadata": {
        "id": "3da4f944"
      },
      "source": [
        "**1. What is the distribution of movie runtimes?**\n",
        "\n"
      ]
    },
    {
      "cell_type": "code",
      "execution_count": 56,
      "metadata": {
        "colab": {
          "base_uri": "https://localhost:8080/",
          "height": 524
        },
        "id": "Xdx5ZGQsHeJC",
        "outputId": "13370ef1-05c3-4372-ef25-2a6f188701d4"
      },
      "outputs": [
        {
          "output_type": "stream",
          "name": "stdout",
          "text": [
            "87.30769322704401\n"
          ]
        },
        {
          "output_type": "display_data",
          "data": {
            "text/plain": [
              "<Figure size 800x500 with 1 Axes>"
            ],
            "image/png": "[encoded data removed]"
          },
          "metadata": {}
        }
      ],
      "source": [
        "mean_runtime = clean_df['runtime_minutes'].mean()\n",
        "print(mean_runtime)\n",
        "\n",
        "# Plotting a histogram of runtime_minutes\n",
        "plt.figure(figsize=(8, 5))\n",
        "plt.hist(clean_df['runtime_minutes'], bins=20, color='#81286D', edgecolor='black')\n",
        "plt.title('Distribution of Movie Runtimes')\n",
        "plt.xlabel('Runtime (minutes)')\n",
        "plt.ylabel('Number of Movies')\n",
        "plt.tight_layout()\n",
        "plt.show()"
      ]
    },
    {
      "cell_type": "markdown",
      "source": [
        "Most movies, about 14,500 of them, fall within the 80 to 90-minute range. The distribution is slightly skewed to the right, given that the average runtime is 87 minutes, showing that there are a few significantly longer movies extending beyond 140 minutes. Short films, ie under 50 minutes are comparatively few."
      ],
      "metadata": {
        "id": "iNguotyJfGpd"
      }
    },
    {
      "cell_type": "markdown",
      "metadata": {
        "id": "5UxM_XoYCDh8"
      },
      "source": [
        "**2. What is the average movie rating by runtime category**"
      ]
    },
    {
      "cell_type": "code",
      "execution_count": 57,
      "metadata": {
        "colab": {
          "base_uri": "https://localhost:8080/",
          "height": 507
        },
        "id": "vrCIlHcI82yq",
        "outputId": "72ade80d-c6d8-4053-fe64-1ae19ec273dd"
      },
      "outputs": [
        {
          "output_type": "display_data",
          "data": {
            "text/plain": [
              "<Figure size 800x500 with 1 Axes>"
            ],
            "image/png": "[encoded data removed]"
          },
          "metadata": {}
        }
      ],
      "source": [
        "plt.figure(figsize=(8, 5))\n",
        "\n",
        "# grouping data by runtime_category and getting the mean\n",
        "avg_ratings_by_runtime = clean_df.groupby('runtime_category')['averagerating'].mean()\n",
        "\n",
        "# Plotting a bar graph\n",
        "avg_ratings_by_runtime.plot(kind='bar', color='#28A197', edgecolor='black')\n",
        "\n",
        "plt.title('Average Rating by Runtime Category')\n",
        "plt.xlabel('Runtime Category')\n",
        "plt.ylabel('Average Rating')\n",
        "plt.xticks(rotation=0)\n",
        "plt.tight_layout()\n",
        "plt.show()\n"
      ]
    },
    {
      "cell_type": "markdown",
      "source": [
        "A comparison between the length of the movies and the average ratings shows that longer movies get a higher rating than shorter movies"
      ],
      "metadata": {
        "id": "fU50s-vohwrt"
      }
    },
    {
      "cell_type": "markdown",
      "metadata": {
        "id": "11be4fc8"
      },
      "source": [
        "**3. How does the number of genres impact average rating of movies.**"
      ]
    },
    {
      "cell_type": "code",
      "execution_count": 58,
      "metadata": {
        "colab": {
          "base_uri": "https://localhost:8080/",
          "height": 507
        },
        "id": "qqTJ7tneCRXL",
        "outputId": "486b3d70-eaaa-4d2f-c141-ac7216ed4fc2"
      },
      "outputs": [
        {
          "output_type": "display_data",
          "data": {
            "text/plain": [
              "<Figure size 800x500 with 1 Axes>"
            ],
            "image/png": "[encoded data removed]"
          },
          "metadata": {}
        }
      ],
      "source": [
        "# Average rating by number of genres\n",
        "avg_by_genres = clean_df.groupby('number of genres')['averagerating'].mean()\n",
        "\n",
        "# Plotting a bar graph\n",
        "plt.figure(figsize=(8, 5))\n",
        "avg_by_genres.plot(kind='bar', color='#801650', edgecolor='black')\n",
        "plt.title('Average Rating by Number of Genres')\n",
        "plt.xlabel('Number of Genres')\n",
        "plt.ylabel('Average Rating')\n",
        "plt.xticks(rotation=0)\n",
        "plt.tight_layout()\n",
        "plt.show()\n"
      ]
    },
    {
      "cell_type": "markdown",
      "source": [
        "The more the number of genres a movie is, the better the rating, as shown in the bar chart above.\n",
        "\n"
      ],
      "metadata": {
        "id": "NW2A8NxjiRHQ"
      }
    },
    {
      "cell_type": "markdown",
      "metadata": {
        "id": "29b01a7c"
      },
      "source": [
        "**4. How does number of genres, number of writers, number of directors, and averagerating correrate with each other**\n"
      ]
    },
    {
      "cell_type": "code",
      "execution_count": 59,
      "metadata": {
        "colab": {
          "base_uri": "https://localhost:8080/",
          "height": 506
        },
        "id": "zi6s0y7_F1qo",
        "outputId": "b395833d-2c7e-4111-de45-de35366d8463"
      },
      "outputs": [
        {
          "output_type": "display_data",
          "data": {
            "text/plain": [
              "<Figure size 800x500 with 2 Axes>"
            ],
            "image/png": "[encoded data removed]"
          },
          "metadata": {}
        }
      ],
      "source": [
        "# Selecting relevant numeric columns\n",
        "correlation_df = clean_df[['number of genres', 'number of writers', 'number of directors', 'averagerating']]\n",
        "\n",
        "# Computing a correlation matrix\n",
        "correlation_matrix = correlation_df.corr()\n",
        "\n",
        "# Plotting a correlation heatmap\n",
        "plt.figure(figsize=(8, 5))\n",
        "sns.heatmap(correlation_matrix, annot=True, cmap='YlGnBu')\n",
        "plt.title('Correlation Matrix')\n",
        "plt.tight_layout()\n",
        "plt.show()\n"
      ]
    },
    {
      "cell_type": "markdown",
      "source": [
        "Number of Writers vs. Number of Directors, with a correlation of 0.43 has the strongest correlation. It indicates a moderate positive relationship, suggesting that projects with more writers tend to have more directors and vice versa.\n",
        "\n",
        "Number of Writers vs. Average Rating, with a correlation of 0.12 has a slightly positive but weak correlation. It suggests that having more writers may slightly improve average ratings, but the impact is minimal."
      ],
      "metadata": {
        "id": "5_TnxvnKj-gT"
      }
    },
    {
      "cell_type": "markdown",
      "metadata": {
        "id": "bc70ddcc"
      },
      "source": [
        "**How have movie runtimes have evolved over time.**"
      ]
    },
    {
      "cell_type": "code",
      "execution_count": 60,
      "metadata": {
        "colab": {
          "base_uri": "https://localhost:8080/",
          "height": 507
        },
        "id": "G4Ctsnh6Gwtz",
        "outputId": "3ab11fc8-9612-4672-a5af-198ffcc224d4"
      },
      "outputs": [
        {
          "output_type": "display_data",
          "data": {
            "text/plain": [
              "<Figure size 800x500 with 1 Axes>"
            ],
            "image/png": "[encoded data removed]"
          },
          "metadata": {}
        }
      ],
      "source": [
        "import matplotlib.pyplot as plt\n",
        "\n",
        "# Step 1: Group by year and calculate average runtime\n",
        "avg_runtime_per_year = clean_df.groupby('start_year')['runtime_minutes'].mean()\n",
        "\n",
        "# Step 2: Plot a line graph\n",
        "plt.figure(figsize=(8, 5))\n",
        "plt.plot(avg_runtime_per_year.index, avg_runtime_per_year.values, color='#025844', marker='o')\n",
        "\n",
        "plt.title('Trend of Average Movie Runtime Over the Years')\n",
        "plt.xlabel('Year')\n",
        "plt.ylabel('Average Runtime (minutes)')\n",
        "plt.grid(True)\n",
        "plt.tight_layout()\n",
        "plt.show()\n"
      ]
    },
    {
      "cell_type": "markdown",
      "source": [
        "Between 2010 and 2019, the average runtime remained relatively stable with only gradual increases, but from 2020 onward, there's a steep upward trajectory in the average runtime"
      ],
      "metadata": {
        "id": "ikbiKloMlJQX"
      }
    },
    {
      "cell_type": "markdown",
      "metadata": {
        "id": "8R6Jku6bI77g"
      },
      "source": [
        "# Conclusion"
      ]
    },
    {
      "cell_type": "markdown",
      "source": [
        "1. Runtime Preferences: The majority of successful movies (about 14,500) fall within the 80–90 minute range.\n",
        "2. Runtime vs. Ratings: Longer movies tend to receive higher average ratings than shorter ones.\n",
        "3. Genre diversity: Movies that span multiple genres tend to get better ratings.This suggests that genre diversity enhances audience appeal and reception.\n",
        "4. Team Size vs. Ratings: Larger writing teams often align with larger directing teams, and more writers might slightly improve storytelling quality, but it's not a strong factor alone.\n",
        "5. Trend in Movie Length Over Time: There has been a sharp increase in average runtimes in the recent years, suggesting a trend toward longer films, possibly due to streaming platform influence or changing audience preferences."
      ],
      "metadata": {
        "id": "VfaqtF_Lmbk4"
      }
    },
    {
      "cell_type": "markdown",
      "metadata": {
        "id": "fdB_pwOeI0Gh"
      },
      "source": [
        "# Recommendations\n"
      ]
    },
    {
      "cell_type": "markdown",
      "source": [
        "1. Microsoft should target the 80–100 minute runtime range for movies to match current audience expectations.\n",
        "2. Microsoft should aim for genre-blending in movies (e.g., action-comedy, sci-fi-drama) to enhance and viewer experience.\n",
        "3. The company should build  balanced creative teams of writers and directors to allow for collaborative creativity that supports higher quality films.\n",
        "4. The company should follow the runtime growth trend. Newer movies are trending longer, particularly post-2020, therefore, it should experiment with slightly longer formats, especially for digital platforms.\n",
        "\n",
        "These insights reduce financial risk by aligning production choices with proven market demand, and Microsoft can build a strong, profitable foundation in the film industry by working around these insights. This will give Microsoft a competitive edge in the movie production industry.\n"
      ],
      "metadata": {
        "id": "u9kZvnfinwpd"
      }
    }
  ],
  "metadata": {
    "colab": {
      "provenance": []
    },
    "kernelspec": {
      "display_name": "Python 3",
      "language": "python",
      "name": "python3"
    },
    "language_info": {
      "codemirror_mode": {
        "name": "ipython",
        "version": 3
      },
      "file_extension": ".py",
      "mimetype": "text/x-python",
      "name": "python",
      "nbconvert_exporter": "python",
      "pygments_lexer": "ipython3",
      "version": "3.6.4"
    }
  },
  "nbformat": 4,
  "nbformat_minor": 0
}